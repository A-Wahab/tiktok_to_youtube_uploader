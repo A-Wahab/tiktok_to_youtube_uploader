{
 "cells": [
  {
   "cell_type": "code",
   "execution_count": 1,
   "metadata": {
    "collapsed": true,
    "ExecuteTime": {
     "end_time": "2023-05-20T13:12:05.051533735Z",
     "start_time": "2023-05-20T13:11:58.579827073Z"
    }
   },
   "outputs": [],
   "source": [
    "import time\n",
    "import pyperclip\n",
    "import pyautogui\n",
    "from selenium import webdriver\n",
    "from selenium.webdriver.common.by import By\n",
    "from selenium.webdriver.support.ui import WebDriverWait\n",
    "from webdriver_manager.chrome import ChromeDriverManager\n",
    "from selenium.webdriver.support import expected_conditions as EC"
   ]
  },
  {
   "cell_type": "code",
   "execution_count": 2,
   "outputs": [
    {
     "ename": "TimeoutException",
     "evalue": "Message: \n",
     "output_type": "error",
     "traceback": [
      "\u001B[1;31m---------------------------------------------------------------------------\u001B[0m",
      "\u001B[1;31mTimeoutException\u001B[0m                          Traceback (most recent call last)",
      "\u001B[1;32m~\\AppData\\Local\\Temp/ipykernel_14992/1327188799.py\u001B[0m in \u001B[0;36m<module>\u001B[1;34m\u001B[0m\n\u001B[0;32m     36\u001B[0m \u001B[0mtitle_input\u001B[0m\u001B[1;33m.\u001B[0m\u001B[0msend_keys\u001B[0m\u001B[1;33m(\u001B[0m\u001B[1;34m'My Nephew'\u001B[0m\u001B[1;33m)\u001B[0m\u001B[1;33m\u001B[0m\u001B[1;33m\u001B[0m\u001B[0m\n\u001B[0;32m     37\u001B[0m \u001B[1;33m\u001B[0m\u001B[0m\n\u001B[1;32m---> 38\u001B[1;33m \u001B[0mdescription_input\u001B[0m \u001B[1;33m=\u001B[0m \u001B[0mwait\u001B[0m\u001B[1;33m.\u001B[0m\u001B[0muntil\u001B[0m\u001B[1;33m(\u001B[0m\u001B[0mEC\u001B[0m\u001B[1;33m.\u001B[0m\u001B[0mvisibility_of_element_located\u001B[0m\u001B[1;33m(\u001B[0m\u001B[1;33m(\u001B[0m\u001B[0mBy\u001B[0m\u001B[1;33m.\u001B[0m\u001B[0mID\u001B[0m\u001B[1;33m,\u001B[0m \u001B[1;34m'textarea'\u001B[0m\u001B[1;33m)\u001B[0m\u001B[1;33m)\u001B[0m\u001B[1;33m)\u001B[0m\u001B[1;33m\u001B[0m\u001B[1;33m\u001B[0m\u001B[0m\n\u001B[0m\u001B[0;32m     39\u001B[0m \u001B[0mdescription_input\u001B[0m\u001B[1;33m.\u001B[0m\u001B[0mclear\u001B[0m\u001B[1;33m(\u001B[0m\u001B[1;33m)\u001B[0m\u001B[1;33m\u001B[0m\u001B[1;33m\u001B[0m\u001B[0m\n\u001B[0;32m     40\u001B[0m \u001B[0mdescription_input\u001B[0m\u001B[1;33m.\u001B[0m\u001B[0msend_keys\u001B[0m\u001B[1;33m(\u001B[0m\u001B[1;34m'My Nephew wearing a cute dress'\u001B[0m\u001B[1;33m)\u001B[0m\u001B[1;33m\u001B[0m\u001B[1;33m\u001B[0m\u001B[0m\n",
      "\u001B[1;32m~\\anaconda3\\lib\\site-packages\\selenium\\webdriver\\support\\wait.py\u001B[0m in \u001B[0;36muntil\u001B[1;34m(self, method, message)\u001B[0m\n\u001B[0;32m     78\u001B[0m             \u001B[1;32mif\u001B[0m \u001B[0mtime\u001B[0m\u001B[1;33m.\u001B[0m\u001B[0mtime\u001B[0m\u001B[1;33m(\u001B[0m\u001B[1;33m)\u001B[0m \u001B[1;33m>\u001B[0m \u001B[0mend_time\u001B[0m\u001B[1;33m:\u001B[0m\u001B[1;33m\u001B[0m\u001B[1;33m\u001B[0m\u001B[0m\n\u001B[0;32m     79\u001B[0m                 \u001B[1;32mbreak\u001B[0m\u001B[1;33m\u001B[0m\u001B[1;33m\u001B[0m\u001B[0m\n\u001B[1;32m---> 80\u001B[1;33m         \u001B[1;32mraise\u001B[0m \u001B[0mTimeoutException\u001B[0m\u001B[1;33m(\u001B[0m\u001B[0mmessage\u001B[0m\u001B[1;33m,\u001B[0m \u001B[0mscreen\u001B[0m\u001B[1;33m,\u001B[0m \u001B[0mstacktrace\u001B[0m\u001B[1;33m)\u001B[0m\u001B[1;33m\u001B[0m\u001B[1;33m\u001B[0m\u001B[0m\n\u001B[0m\u001B[0;32m     81\u001B[0m \u001B[1;33m\u001B[0m\u001B[0m\n\u001B[0;32m     82\u001B[0m     \u001B[1;32mdef\u001B[0m \u001B[0muntil_not\u001B[0m\u001B[1;33m(\u001B[0m\u001B[0mself\u001B[0m\u001B[1;33m,\u001B[0m \u001B[0mmethod\u001B[0m\u001B[1;33m,\u001B[0m \u001B[0mmessage\u001B[0m\u001B[1;33m=\u001B[0m\u001B[1;34m''\u001B[0m\u001B[1;33m)\u001B[0m\u001B[1;33m:\u001B[0m\u001B[1;33m\u001B[0m\u001B[1;33m\u001B[0m\u001B[0m\n",
      "\u001B[1;31mTimeoutException\u001B[0m: Message: \n"
     ]
    }
   ],
   "source": [
    "options = webdriver.ChromeOptions()\n",
    "options.add_argument(\"--user-data-dir=C:/Users/92312/AppData/Local/Google/Chrome/User Data/Profile 17\")\n",
    "\n",
    "driver = webdriver.Chrome(ChromeDriverManager().install(), options=options)\n",
    "\n",
    "# Open the YouTube Studio website\n",
    "driver.get('https://studio.youtube.com/channel/UCO8-h-avVSBFouH4_81kNyg')\n",
    "\n",
    "# Wait for the page to load\n",
    "wait = WebDriverWait(driver, 20)\n",
    "\n",
    "upload_button = wait.until(EC.element_to_be_clickable((By.XPATH, \"//div[contains(@class, 'label style-scope ytcp-button') and contains(text(), 'Upload videos')]\")))\n",
    "# Click the \"Upload Videos\" button\n",
    "upload_button.click()\n",
    "\n",
    "file_path = r\"C:\\Users\\92312\\Downloads\\downloads\\video.mp4\"\n",
    "# Set clipboard content with the file path\n",
    "pyperclip.copy(file_path)\n",
    "\n",
    "# Handle the file upload dialog\n",
    "file_input = wait.until(EC.element_to_be_clickable((By.CSS_SELECTOR, \"ytcp-button#select-files-button\")))\n",
    "file_input.click()\n",
    "time.sleep(1)\n",
    "\n",
    "# Use PyAutoGUI to paste the file path\n",
    "pyautogui.hotkey('ctrl', 'v')\n",
    "time.sleep(1)  # Add a small delay to ensure the paste operation completes\n",
    "pyautogui.press('enter')  # Press Enter to confirm the file selection\n",
    "\n",
    "# Wait for the upload to complete\n",
    "wait.until(EC.invisibility_of_element_located((By.XPATH, \"//div[contains(text(), 'Uploading')]\")))\n",
    "\n",
    "# Fill in the required options\n",
    "title_input = wait.until(EC.visibility_of_element_located((By.ID, 'textbox')))\n",
    "title_input.clear()\n",
    "title_input.send_keys('My Nephew')\n",
    "\n",
    "description_input = wait.until(EC.visibility_of_element_located((By.ID, 'textarea')))\n",
    "description_input.clear()\n",
    "description_input.send_keys('My Nephew wearing a cute dress')\n",
    "\n",
    "tags_input = wait.until(EC.visibility_of_element_located((By.CLASS_NAME, 'chips-input')))\n",
    "tags_input.clear()\n",
    "tags_input.send_keys('Cute, Baby')\n",
    "\n",
    "# Submit the form\n",
    "submit_button = wait.until(EC.element_to_be_clickable((By.XPATH, \"//button[contains(text(), 'Publish')]\")))\n",
    "submit_button.click()\n",
    "\n",
    "# Close the browser\n",
    "driver.quit()\n"
   ],
   "metadata": {
    "collapsed": false,
    "ExecuteTime": {
     "end_time": "2023-05-20T13:33:26.724943104Z",
     "start_time": "2023-05-20T13:33:01.787936504Z"
    }
   }
  }
 ],
 "metadata": {
  "kernelspec": {
   "display_name": "Python 3",
   "language": "python",
   "name": "python3"
  },
  "language_info": {
   "codemirror_mode": {
    "name": "ipython",
    "version": 2
   },
   "file_extension": ".py",
   "mimetype": "text/x-python",
   "name": "python",
   "nbconvert_exporter": "python",
   "pygments_lexer": "ipython2",
   "version": "2.7.6"
  }
 },
 "nbformat": 4,
 "nbformat_minor": 0
}
