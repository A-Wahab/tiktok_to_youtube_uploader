{
 "cells": [
  {
   "cell_type": "code",
   "execution_count": 2,
   "outputs": [
    {
     "ename": "WebDriverException",
     "evalue": "Message: unknown error: Chrome failed to start: crashed.\n  (unknown error: DevToolsActivePort file doesn't exist)\n  (The process started from chrome location /opt/google/chrome/google-chrome is no longer running, so ChromeDriver is assuming that Chrome has crashed.)\nStacktrace:\n#0 0x55d7a28cb133 <unknown>\n#1 0x55d7a25ff966 <unknown>\n#2 0x55d7a262921a <unknown>\n#3 0x55d7a262507b <unknown>\n#4 0x55d7a26649ad <unknown>\n#5 0x55d7a266418f <unknown>\n#6 0x55d7a265b9a3 <unknown>\n#7 0x55d7a263046a <unknown>\n#8 0x55d7a263155e <unknown>\n#9 0x55d7a288acae <unknown>\n#10 0x55d7a288e8fe <unknown>\n#11 0x55d7a2897f20 <unknown>\n#12 0x55d7a288f923 <unknown>\n#13 0x55d7a2862c0e <unknown>\n#14 0x55d7a28b2b08 <unknown>\n#15 0x55d7a28b2c97 <unknown>\n#16 0x55d7a28c3113 <unknown>\n#17 0x7f113668f1da <unknown>\n#18 0x7f1136717f44 clone\n",
     "output_type": "error",
     "traceback": [
      "\u001B[0;31m---------------------------------------------------------------------------\u001B[0m",
      "\u001B[0;31mWebDriverException\u001B[0m                        Traceback (most recent call last)",
      "Cell \u001B[0;32mIn[2], line 43\u001B[0m\n\u001B[1;32m     41\u001B[0m video_url \u001B[38;5;241m=\u001B[39m \u001B[38;5;124m\"\u001B[39m\u001B[38;5;124mhttps://www.tiktok.com/@muhammadzahid340/video/6918687903329701121\u001B[39m\u001B[38;5;124m\"\u001B[39m\n\u001B[1;32m     42\u001B[0m output_path \u001B[38;5;241m=\u001B[39m \u001B[38;5;124m\"\u001B[39m\u001B[38;5;124mvideo.mp4\u001B[39m\u001B[38;5;124m\"\u001B[39m\n\u001B[0;32m---> 43\u001B[0m \u001B[43mdownload_video_from_savefrom\u001B[49m\u001B[43m(\u001B[49m\u001B[43mvideo_url\u001B[49m\u001B[43m,\u001B[49m\u001B[43m \u001B[49m\u001B[43moutput_path\u001B[49m\u001B[43m)\u001B[49m\n",
      "Cell \u001B[0;32mIn[2], line 8\u001B[0m, in \u001B[0;36mdownload_video_from_savefrom\u001B[0;34m(url, output_path)\u001B[0m\n\u001B[1;32m      7\u001B[0m \u001B[38;5;28;01mdef\u001B[39;00m \u001B[38;5;21mdownload_video_from_savefrom\u001B[39m(url, output_path):\n\u001B[0;32m----> 8\u001B[0m     driver \u001B[38;5;241m=\u001B[39m \u001B[43mwebdriver\u001B[49m\u001B[38;5;241;43m.\u001B[39;49m\u001B[43mChrome\u001B[49m\u001B[43m(\u001B[49m\u001B[43m)\u001B[49m\n\u001B[1;32m      9\u001B[0m     driver\u001B[38;5;241m.\u001B[39mget(\u001B[38;5;124m\"\u001B[39m\u001B[38;5;124mhttps://en.savefrom.net/\u001B[39m\u001B[38;5;124m\"\u001B[39m)\n\u001B[1;32m     11\u001B[0m     input_field \u001B[38;5;241m=\u001B[39m WebDriverWait(driver, \u001B[38;5;241m10\u001B[39m)\u001B[38;5;241m.\u001B[39muntil(\n\u001B[1;32m     12\u001B[0m         EC\u001B[38;5;241m.\u001B[39mpresence_of_element_located((By\u001B[38;5;241m.\u001B[39mNAME, \u001B[38;5;124m\"\u001B[39m\u001B[38;5;124msf_url\u001B[39m\u001B[38;5;124m\"\u001B[39m))\n\u001B[1;32m     13\u001B[0m     )\n",
      "File \u001B[0;32m/run/media/a_wahhab/work_drive/work/venv/lib/python3.10/site-packages/selenium/webdriver/chrome/webdriver.py:84\u001B[0m, in \u001B[0;36mWebDriver.__init__\u001B[0;34m(self, executable_path, port, options, service_args, desired_capabilities, service_log_path, chrome_options, service, keep_alive)\u001B[0m\n\u001B[1;32m     81\u001B[0m     service \u001B[38;5;241m=\u001B[39m Service(executable_path, port, service_args, service_log_path)\n\u001B[1;32m     82\u001B[0m service\u001B[38;5;241m.\u001B[39mpath \u001B[38;5;241m=\u001B[39m DriverFinder\u001B[38;5;241m.\u001B[39mget_path(service, options)\n\u001B[0;32m---> 84\u001B[0m \u001B[38;5;28;43msuper\u001B[39;49m\u001B[43m(\u001B[49m\u001B[43m)\u001B[49m\u001B[38;5;241;43m.\u001B[39;49m\u001B[38;5;21;43m__init__\u001B[39;49m\u001B[43m(\u001B[49m\n\u001B[1;32m     85\u001B[0m \u001B[43m    \u001B[49m\u001B[43mDesiredCapabilities\u001B[49m\u001B[38;5;241;43m.\u001B[39;49m\u001B[43mCHROME\u001B[49m\u001B[43m[\u001B[49m\u001B[38;5;124;43m\"\u001B[39;49m\u001B[38;5;124;43mbrowserName\u001B[39;49m\u001B[38;5;124;43m\"\u001B[39;49m\u001B[43m]\u001B[49m\u001B[43m,\u001B[49m\n\u001B[1;32m     86\u001B[0m \u001B[43m    \u001B[49m\u001B[38;5;124;43m\"\u001B[39;49m\u001B[38;5;124;43mgoog\u001B[39;49m\u001B[38;5;124;43m\"\u001B[39;49m\u001B[43m,\u001B[49m\n\u001B[1;32m     87\u001B[0m \u001B[43m    \u001B[49m\u001B[43mport\u001B[49m\u001B[43m,\u001B[49m\n\u001B[1;32m     88\u001B[0m \u001B[43m    \u001B[49m\u001B[43moptions\u001B[49m\u001B[43m,\u001B[49m\n\u001B[1;32m     89\u001B[0m \u001B[43m    \u001B[49m\u001B[43mservice_args\u001B[49m\u001B[43m,\u001B[49m\n\u001B[1;32m     90\u001B[0m \u001B[43m    \u001B[49m\u001B[43mdesired_capabilities\u001B[49m\u001B[43m,\u001B[49m\n\u001B[1;32m     91\u001B[0m \u001B[43m    \u001B[49m\u001B[43mservice_log_path\u001B[49m\u001B[43m,\u001B[49m\n\u001B[1;32m     92\u001B[0m \u001B[43m    \u001B[49m\u001B[43mservice\u001B[49m\u001B[43m,\u001B[49m\n\u001B[1;32m     93\u001B[0m \u001B[43m    \u001B[49m\u001B[43mkeep_alive\u001B[49m\u001B[43m,\u001B[49m\n\u001B[1;32m     94\u001B[0m \u001B[43m\u001B[49m\u001B[43m)\u001B[49m\n",
      "File \u001B[0;32m/run/media/a_wahhab/work_drive/work/venv/lib/python3.10/site-packages/selenium/webdriver/chromium/webdriver.py:104\u001B[0m, in \u001B[0;36mChromiumDriver.__init__\u001B[0;34m(self, browser_name, vendor_prefix, port, options, service_args, desired_capabilities, service_log_path, service, keep_alive)\u001B[0m\n\u001B[1;32m    101\u001B[0m \u001B[38;5;28mself\u001B[39m\u001B[38;5;241m.\u001B[39mservice\u001B[38;5;241m.\u001B[39mstart()\n\u001B[1;32m    103\u001B[0m \u001B[38;5;28;01mtry\u001B[39;00m:\n\u001B[0;32m--> 104\u001B[0m     \u001B[38;5;28;43msuper\u001B[39;49m\u001B[43m(\u001B[49m\u001B[43m)\u001B[49m\u001B[38;5;241;43m.\u001B[39;49m\u001B[38;5;21;43m__init__\u001B[39;49m\u001B[43m(\u001B[49m\n\u001B[1;32m    105\u001B[0m \u001B[43m        \u001B[49m\u001B[43mcommand_executor\u001B[49m\u001B[38;5;241;43m=\u001B[39;49m\u001B[43mChromiumRemoteConnection\u001B[49m\u001B[43m(\u001B[49m\n\u001B[1;32m    106\u001B[0m \u001B[43m            \u001B[49m\u001B[43mremote_server_addr\u001B[49m\u001B[38;5;241;43m=\u001B[39;49m\u001B[38;5;28;43mself\u001B[39;49m\u001B[38;5;241;43m.\u001B[39;49m\u001B[43mservice\u001B[49m\u001B[38;5;241;43m.\u001B[39;49m\u001B[43mservice_url\u001B[49m\u001B[43m,\u001B[49m\n\u001B[1;32m    107\u001B[0m \u001B[43m            \u001B[49m\u001B[43mbrowser_name\u001B[49m\u001B[38;5;241;43m=\u001B[39;49m\u001B[43mbrowser_name\u001B[49m\u001B[43m,\u001B[49m\n\u001B[1;32m    108\u001B[0m \u001B[43m            \u001B[49m\u001B[43mvendor_prefix\u001B[49m\u001B[38;5;241;43m=\u001B[39;49m\u001B[43mvendor_prefix\u001B[49m\u001B[43m,\u001B[49m\n\u001B[1;32m    109\u001B[0m \u001B[43m            \u001B[49m\u001B[43mkeep_alive\u001B[49m\u001B[38;5;241;43m=\u001B[39;49m\u001B[43mkeep_alive\u001B[49m\u001B[43m,\u001B[49m\n\u001B[1;32m    110\u001B[0m \u001B[43m            \u001B[49m\u001B[43mignore_proxy\u001B[49m\u001B[38;5;241;43m=\u001B[39;49m\u001B[43m_ignore_proxy\u001B[49m\u001B[43m,\u001B[49m\n\u001B[1;32m    111\u001B[0m \u001B[43m        \u001B[49m\u001B[43m)\u001B[49m\u001B[43m,\u001B[49m\n\u001B[1;32m    112\u001B[0m \u001B[43m        \u001B[49m\u001B[43moptions\u001B[49m\u001B[38;5;241;43m=\u001B[39;49m\u001B[43moptions\u001B[49m\u001B[43m,\u001B[49m\n\u001B[1;32m    113\u001B[0m \u001B[43m    \u001B[49m\u001B[43m)\u001B[49m\n\u001B[1;32m    114\u001B[0m \u001B[38;5;28;01mexcept\u001B[39;00m \u001B[38;5;167;01mException\u001B[39;00m:\n\u001B[1;32m    115\u001B[0m     \u001B[38;5;28mself\u001B[39m\u001B[38;5;241m.\u001B[39mquit()\n",
      "File \u001B[0;32m/run/media/a_wahhab/work_drive/work/venv/lib/python3.10/site-packages/selenium/webdriver/remote/webdriver.py:286\u001B[0m, in \u001B[0;36mWebDriver.__init__\u001B[0;34m(self, command_executor, desired_capabilities, browser_profile, proxy, keep_alive, file_detector, options)\u001B[0m\n\u001B[1;32m    284\u001B[0m \u001B[38;5;28mself\u001B[39m\u001B[38;5;241m.\u001B[39m_authenticator_id \u001B[38;5;241m=\u001B[39m \u001B[38;5;28;01mNone\u001B[39;00m\n\u001B[1;32m    285\u001B[0m \u001B[38;5;28mself\u001B[39m\u001B[38;5;241m.\u001B[39mstart_client()\n\u001B[0;32m--> 286\u001B[0m \u001B[38;5;28;43mself\u001B[39;49m\u001B[38;5;241;43m.\u001B[39;49m\u001B[43mstart_session\u001B[49m\u001B[43m(\u001B[49m\u001B[43mcapabilities\u001B[49m\u001B[43m,\u001B[49m\u001B[43m \u001B[49m\u001B[43mbrowser_profile\u001B[49m\u001B[43m)\u001B[49m\n",
      "File \u001B[0;32m/run/media/a_wahhab/work_drive/work/venv/lib/python3.10/site-packages/selenium/webdriver/remote/webdriver.py:378\u001B[0m, in \u001B[0;36mWebDriver.start_session\u001B[0;34m(self, capabilities, browser_profile)\u001B[0m\n\u001B[1;32m    376\u001B[0m w3c_caps \u001B[38;5;241m=\u001B[39m _make_w3c_caps(capabilities)\n\u001B[1;32m    377\u001B[0m parameters \u001B[38;5;241m=\u001B[39m {\u001B[38;5;124m\"\u001B[39m\u001B[38;5;124mcapabilities\u001B[39m\u001B[38;5;124m\"\u001B[39m: w3c_caps}\n\u001B[0;32m--> 378\u001B[0m response \u001B[38;5;241m=\u001B[39m \u001B[38;5;28;43mself\u001B[39;49m\u001B[38;5;241;43m.\u001B[39;49m\u001B[43mexecute\u001B[49m\u001B[43m(\u001B[49m\u001B[43mCommand\u001B[49m\u001B[38;5;241;43m.\u001B[39;49m\u001B[43mNEW_SESSION\u001B[49m\u001B[43m,\u001B[49m\u001B[43m \u001B[49m\u001B[43mparameters\u001B[49m\u001B[43m)\u001B[49m\n\u001B[1;32m    379\u001B[0m \u001B[38;5;28;01mif\u001B[39;00m \u001B[38;5;124m\"\u001B[39m\u001B[38;5;124msessionId\u001B[39m\u001B[38;5;124m\"\u001B[39m \u001B[38;5;129;01mnot\u001B[39;00m \u001B[38;5;129;01min\u001B[39;00m response:\n\u001B[1;32m    380\u001B[0m     response \u001B[38;5;241m=\u001B[39m response[\u001B[38;5;124m\"\u001B[39m\u001B[38;5;124mvalue\u001B[39m\u001B[38;5;124m\"\u001B[39m]\n",
      "File \u001B[0;32m/run/media/a_wahhab/work_drive/work/venv/lib/python3.10/site-packages/selenium/webdriver/remote/webdriver.py:440\u001B[0m, in \u001B[0;36mWebDriver.execute\u001B[0;34m(self, driver_command, params)\u001B[0m\n\u001B[1;32m    438\u001B[0m response \u001B[38;5;241m=\u001B[39m \u001B[38;5;28mself\u001B[39m\u001B[38;5;241m.\u001B[39mcommand_executor\u001B[38;5;241m.\u001B[39mexecute(driver_command, params)\n\u001B[1;32m    439\u001B[0m \u001B[38;5;28;01mif\u001B[39;00m response:\n\u001B[0;32m--> 440\u001B[0m     \u001B[38;5;28;43mself\u001B[39;49m\u001B[38;5;241;43m.\u001B[39;49m\u001B[43merror_handler\u001B[49m\u001B[38;5;241;43m.\u001B[39;49m\u001B[43mcheck_response\u001B[49m\u001B[43m(\u001B[49m\u001B[43mresponse\u001B[49m\u001B[43m)\u001B[49m\n\u001B[1;32m    441\u001B[0m     response[\u001B[38;5;124m\"\u001B[39m\u001B[38;5;124mvalue\u001B[39m\u001B[38;5;124m\"\u001B[39m] \u001B[38;5;241m=\u001B[39m \u001B[38;5;28mself\u001B[39m\u001B[38;5;241m.\u001B[39m_unwrap_value(response\u001B[38;5;241m.\u001B[39mget(\u001B[38;5;124m\"\u001B[39m\u001B[38;5;124mvalue\u001B[39m\u001B[38;5;124m\"\u001B[39m, \u001B[38;5;28;01mNone\u001B[39;00m))\n\u001B[1;32m    442\u001B[0m     \u001B[38;5;28;01mreturn\u001B[39;00m response\n",
      "File \u001B[0;32m/run/media/a_wahhab/work_drive/work/venv/lib/python3.10/site-packages/selenium/webdriver/remote/errorhandler.py:245\u001B[0m, in \u001B[0;36mErrorHandler.check_response\u001B[0;34m(self, response)\u001B[0m\n\u001B[1;32m    243\u001B[0m         alert_text \u001B[38;5;241m=\u001B[39m value[\u001B[38;5;124m\"\u001B[39m\u001B[38;5;124malert\u001B[39m\u001B[38;5;124m\"\u001B[39m]\u001B[38;5;241m.\u001B[39mget(\u001B[38;5;124m\"\u001B[39m\u001B[38;5;124mtext\u001B[39m\u001B[38;5;124m\"\u001B[39m)\n\u001B[1;32m    244\u001B[0m     \u001B[38;5;28;01mraise\u001B[39;00m exception_class(message, screen, stacktrace, alert_text)  \u001B[38;5;66;03m# type: ignore[call-arg]  # mypy is not smart enough here\u001B[39;00m\n\u001B[0;32m--> 245\u001B[0m \u001B[38;5;28;01mraise\u001B[39;00m exception_class(message, screen, stacktrace)\n",
      "\u001B[0;31mWebDriverException\u001B[0m: Message: unknown error: Chrome failed to start: crashed.\n  (unknown error: DevToolsActivePort file doesn't exist)\n  (The process started from chrome location /opt/google/chrome/google-chrome is no longer running, so ChromeDriver is assuming that Chrome has crashed.)\nStacktrace:\n#0 0x55d7a28cb133 <unknown>\n#1 0x55d7a25ff966 <unknown>\n#2 0x55d7a262921a <unknown>\n#3 0x55d7a262507b <unknown>\n#4 0x55d7a26649ad <unknown>\n#5 0x55d7a266418f <unknown>\n#6 0x55d7a265b9a3 <unknown>\n#7 0x55d7a263046a <unknown>\n#8 0x55d7a263155e <unknown>\n#9 0x55d7a288acae <unknown>\n#10 0x55d7a288e8fe <unknown>\n#11 0x55d7a2897f20 <unknown>\n#12 0x55d7a288f923 <unknown>\n#13 0x55d7a2862c0e <unknown>\n#14 0x55d7a28b2b08 <unknown>\n#15 0x55d7a28b2c97 <unknown>\n#16 0x55d7a28c3113 <unknown>\n#17 0x7f113668f1da <unknown>\n#18 0x7f1136717f44 clone\n"
     ]
    }
   ],
   "source": [
    "from selenium import webdriver\n",
    "from selenium.webdriver.common.by import By\n",
    "from selenium.webdriver.support.ui import WebDriverWait\n",
    "from selenium.webdriver.support import expected_conditions as EC\n",
    "import requests\n",
    "\n",
    "def download_video_from_savefrom(url, output_path):\n",
    "    driver = webdriver.Chrome()\n",
    "    driver.get(\"https://en.savefrom.net/\")\n",
    "\n",
    "    input_field = WebDriverWait(driver, 10).until(\n",
    "        EC.presence_of_element_located((By.NAME, \"sf_url\"))\n",
    "    )\n",
    "    input_field.clear()\n",
    "    input_field.send_keys(url)\n",
    "\n",
    "    download_button = WebDriverWait(driver, 10).until(\n",
    "        EC.presence_of_element_located((By.NAME, \"sf_submit\"))\n",
    "    )\n",
    "    download_button.click()\n",
    "\n",
    "    download_link = WebDriverWait(driver, 20).until(\n",
    "        EC.presence_of_element_located((By.CLASS_NAME, \"link-download\"))\n",
    "    )\n",
    "    video_url = download_link.get_attribute(\"href\")\n",
    "\n",
    "    driver.quit()\n",
    "\n",
    "    if video_url:\n",
    "        response = requests.get(video_url)\n",
    "        if response.status_code == 200:\n",
    "            with open(output_path, 'wb') as file:\n",
    "                file.write(response.content)\n",
    "            print(\"Video downloaded successfully!\")\n",
    "        else:\n",
    "            print(\"Failed to download video.\")\n",
    "    else:\n",
    "        print(\"Failed to retrieve video download link.\")\n",
    "\n",
    "# Example usage\n",
    "video_url = \"https://www.tiktok.com/@muhammadzahid340/video/6918687903329701121\"\n",
    "output_path = \"video.mp4\"\n",
    "download_video_from_savefrom(video_url, output_path)"
   ],
   "metadata": {
    "collapsed": false,
    "ExecuteTime": {
     "end_time": "2023-05-19T12:15:55.017093290Z",
     "start_time": "2023-05-19T12:15:49.829188839Z"
    }
   }
  }
 ],
 "metadata": {
  "kernelspec": {
   "display_name": "Python 3",
   "language": "python",
   "name": "python3"
  },
  "language_info": {
   "codemirror_mode": {
    "name": "ipython",
    "version": 2
   },
   "file_extension": ".py",
   "mimetype": "text/x-python",
   "name": "python",
   "nbconvert_exporter": "python",
   "pygments_lexer": "ipython2",
   "version": "2.7.6"
  }
 },
 "nbformat": 4,
 "nbformat_minor": 0
}
