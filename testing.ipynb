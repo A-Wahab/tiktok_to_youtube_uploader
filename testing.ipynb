{
 "cells": [
  {
   "cell_type": "code",
   "execution_count": 1,
   "outputs": [],
   "source": [
    "import requests\n",
    "from selenium import webdriver\n",
    "from selenium.webdriver.common.by import By\n",
    "from selenium.webdriver.chrome.options import Options\n",
    "from selenium.webdriver.support.ui import WebDriverWait\n",
    "from selenium.webdriver.support import expected_conditions as EC"
   ],
   "metadata": {
    "collapsed": false,
    "ExecuteTime": {
     "end_time": "2023-05-19T14:16:19.390963439Z",
     "start_time": "2023-05-19T14:16:19.006125466Z"
    }
   }
  },
  {
   "cell_type": "code",
   "execution_count": 11,
   "outputs": [],
   "source": [
    "def download_video(url, download_path):\n",
    "    chrome_options = Options()\n",
    "    chrome_options.add_argument('--headless')\n",
    "    chrome_options.add_argument('--no-sandbox')\n",
    "    driver = webdriver.Chrome(options=chrome_options)\n",
    "    driver.get(\"https://en.savefrom.net/\")\n",
    "\n",
    "    input_field = WebDriverWait(driver, 10).until(\n",
    "        EC.presence_of_element_located((By.NAME, \"sf_url\"))\n",
    "    )\n",
    "    input_field.clear()\n",
    "    input_field.send_keys(url)\n",
    "\n",
    "    download_button = WebDriverWait(driver, 10).until(\n",
    "        EC.presence_of_element_located((By.NAME, \"sf_submit\"))\n",
    "    )\n",
    "    download_button.click()\n",
    "\n",
    "    download_link = WebDriverWait(driver, 20).until(\n",
    "        EC.presence_of_element_located((By.CLASS_NAME, \"link-download\"))\n",
    "    )\n",
    "    video_ref = download_link.get_attribute(\"href\")\n",
    "    driver.quit()\n",
    "\n",
    "    if video_ref:\n",
    "        response = requests.get(video_ref)\n",
    "        if response.status_code == 200:\n",
    "            with open(download_path, 'wb') as file:\n",
    "                file.write(response.content)\n",
    "            print(\"Video downloaded successfully!\")\n",
    "        else:\n",
    "            print(\"Failed to download video.\")\n",
    "    else:\n",
    "        print(\"Failed to retrieve video download link.\")"
   ],
   "metadata": {
    "collapsed": false,
    "ExecuteTime": {
     "end_time": "2023-05-19T14:23:15.181450154Z",
     "start_time": "2023-05-19T14:23:15.164017554Z"
    }
   }
  },
  {
   "cell_type": "code",
   "execution_count": 13,
   "outputs": [],
   "source": [
    "# Example usage\n",
    "video_url = \"https://www.tiktok.com/@muhammadzahid340/video/6918687903329701121\"\n",
    "output_path = \"downloads/video.mp4\"\n",
    "download_video(video_url, output_path)"
   ],
   "metadata": {
    "collapsed": false
   }
  }
 ],
 "metadata": {
  "kernelspec": {
   "display_name": "Python 3",
   "language": "python",
   "name": "python3"
  },
  "language_info": {
   "codemirror_mode": {
    "name": "ipython",
    "version": 2
   },
   "file_extension": ".py",
   "mimetype": "text/x-python",
   "name": "python",
   "nbconvert_exporter": "python",
   "pygments_lexer": "ipython2",
   "version": "2.7.6"
  }
 },
 "nbformat": 4,
 "nbformat_minor": 0
}
